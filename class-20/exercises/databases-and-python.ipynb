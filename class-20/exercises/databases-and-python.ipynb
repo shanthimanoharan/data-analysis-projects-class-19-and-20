{
 "cells": [
  {
   "attachments": {},
   "cell_type": "markdown",
   "metadata": {
    "azdata_cell_guid": "d7b89799-a102-479f-87b7-f2759ff1962e"
   },
   "source": [
    "# Exercises: Working with Databases in Python\n",
    "\n",
    "We have based these exercises around this [article](https://towardsdatascience.com/do-you-know-python-has-a-built-in-database-d553989c87bd). \n",
    "\n",
    "Feel free to reference it as you complete the exercises below. To view it, you will need to create a FREE-tier Medium account. \n",
    "\n",
    "You DO NOT need a payed account to view this article."
   ]
  },
  {
   "attachments": {},
   "cell_type": "markdown",
   "metadata": {
    "azdata_cell_guid": "89a0b6d9-821d-44f5-9795-9519809b9108"
   },
   "source": [
    "## Import Libraries\n",
    "\n",
    "We will need `pandas` and `sqlite3`. \n",
    "\n",
    "SQLite is a small, self-contained database engine that comes with Python, so you will not have to do any additional installations for this lesson. \n",
    "\n",
    "In the future, if you want to connect to a different database engine, such as SQL server, you may need additional libraries such as `sqlalchemy` or `pyodbc` and a tool called a 'driver' which helps to connect a database to an application. But, we won't worry about that for now.\n"
   ]
  },
  {
   "cell_type": "code",
   "execution_count": 1,
   "metadata": {
    "azdata_cell_guid": "865655b0-22e9-47f4-a5df-4bfe97dda4a3",
    "tags": []
   },
   "outputs": [],
   "source": [
    "# Import sqlite3 and pandas.\n",
    "import sqlite3\n",
    "import pandas as pd\n"
   ]
  },
  {
   "cell_type": "markdown",
   "metadata": {
    "azdata_cell_guid": "be8436e2-68be-47f8-9fc9-06c235a6a128"
   },
   "source": [
    "## Create a Database\n",
    "\n",
    "Let's say we want to create a database to store information related to books.\n",
    "\n",
    "Use sqlite3's `connect` method to create a new database called `books.db`.\n",
    "\n",
    "Make sure to store this connection in a variable named `con` (short for 'connection')."
   ]
  },
  {
   "cell_type": "code",
   "execution_count": 2,
   "metadata": {
    "azdata_cell_guid": "707abc33-c6ee-416e-9358-c799f1fcbb12"
   },
   "outputs": [],
   "source": [
    "# Create the new database below\n",
    "con = sqlite3.connect('books.db')\n",
    "#books.db = sqlite3.connect('books.db')"
   ]
  },
  {
   "attachments": {},
   "cell_type": "markdown",
   "metadata": {
    "azdata_cell_guid": "dc9df060-ddc9-4573-bd74-3c97323f85a7"
   },
   "source": [
    "## Create a Table\n",
    "\n",
    "We've created the overall `books.db`, but now we want to store some relevant information inside of it. Creating a table to track our favorite books would be a good idea!\n",
    "\n",
    "Refer to the `python-db-walkthrough` file. There is a section where we created a table named `movies` using the sqlite3 method `executescript`.\n",
    "\n",
    "Using this information as a reference, we want you to create a new table called `favorite_books`. \n",
    "\n",
    "The table should have these fields and datatypes:\n",
    "1. id -> `INTEGER NOT NULL PRIMARY KEY AUTOINCREMENT`\n",
    "2. title -> a `TEXT` field\n",
    "3. author -> a `TEXT` field\n",
    "4. description -> a `TEXT` field \n",
    "\n",
    "Don't forget those `BEGIN` and `COMMIT` statements! "
   ]
  },
  {
   "cell_type": "code",
   "execution_count": 20,
   "metadata": {
    "azdata_cell_guid": "3cc6b80e-3fa2-4d2e-b2a9-1ea5d68ba01e"
   },
   "outputs": [
    {
     "data": {
      "text/plain": [
       "<sqlite3.Cursor at 0x2651b0755c0>"
      ]
     },
     "execution_count": 20,
     "metadata": {},
     "output_type": "execute_result"
    }
   ],
   "source": [
    "# Create a new table in your database.\n",
    "#con.execute(\"BEGIN\")\n",
    "#con.execute(\"CREATE TABLE favorite_books (id INTEGER NOT NULL PRIMARY KEY AUTOINCREMENT, title TEXT, author TEXT,description TEXT )\")\n",
    "#con.execute(\"COMMIT\")\n",
    "            \n",
    "with con:\n",
    "    con.executescript(\"\"\"\n",
    "         BEGIN;\n",
    "         CREATE TABLE favorite_books(id INTEGER NOT NULL PRIMARY KEY AUTOINCREMENT, title TEXT, author TEXT,description TEXT);\n",
    "         COMMIT;\n",
    "    \"\"\")"
   ]
  },
  {
   "cell_type": "markdown",
   "metadata": {
    "azdata_cell_guid": "e9acec60-1485-45c8-9f12-997f959d44cc"
   },
   "source": [
    "## Insert Records\n",
    "\n",
    "Now, add 3 entries to your new table for your top 3 favorite books.\n",
    "\n",
    "We can use the sqlite3 `executemany` method to run a sql statement for each element within a list.\n",
    "\n",
    "\n",
    "Update the `data` list below to include 3 `tuples` of data, like the commented example. \n",
    "Then run the code.\n"
   ]
  },
  {
   "cell_type": "code",
   "execution_count": 24,
   "metadata": {
    "azdata_cell_guid": "c7b8e386-f3f4-42ad-aa91-a2da2e7904a5"
   },
   "outputs": [],
   "source": [
    "# Add your 3 favorite books to your table.\n",
    "\n",
    "sql = 'INSERT INTO favorite_books (title, author, description) values(?, ?, ?)'\n",
    "data = [\n",
    "    ('2666', 'Robert Bolano', 'sample'),\n",
    "    ('2667', 'Tom Nelson', 'sample1'),\n",
    "    ('2668', 'Robert nicolos', 'sample2')\n",
    "]\n",
    "\n",
    "with con:\n",
    "    con.executemany(sql, data)\n"
   ]
  },
  {
   "attachments": {},
   "cell_type": "markdown",
   "metadata": {
    "azdata_cell_guid": "b2e48ba7-b418-4418-bb16-598fb82b964c"
   },
   "source": [
    "## Query Your Table\n",
    "\n",
    "Now, write a `SELECT` query using the sqlite3 `execute` method to return all the records from the `favorite_books` table.\n",
    "\n",
    "\n",
    "Iterate over this result and print each row out to the console.\n"
   ]
  },
  {
   "cell_type": "code",
   "execution_count": 23,
   "metadata": {
    "azdata_cell_guid": "c341e7e2-d635-4c26-b744-237c762f7f41",
    "tags": []
   },
   "outputs": [
    {
     "name": "stdout",
     "output_type": "stream",
     "text": [
      "(1, '2666', 'Robert Bolano', 'sample')\n",
      "(2, '2667', 'Tom Nelson', 'sample1')\n",
      "(3, '2668', 'Robert nicolos', 'sample2')\n"
     ]
    }
   ],
   "source": [
    "\n",
    "with con:\n",
    "\t# Write your code here\n",
    "    for row in con.execute(\"SELECT * FROM favorite_books\"):\n",
    "        print(row)\n"
   ]
  },
  {
   "cell_type": "markdown",
   "metadata": {
    "azdata_cell_guid": "2127737d-71cd-4f0d-a84e-b1db8ad54af7"
   },
   "source": [
    "## Create a New Table with Pandas\n",
    "\n",
    "Books are cool, but you don't have to read movies! \n",
    "\n",
    "Let's create a new table to store our favorite movies based on books.\n",
    "\n",
    "This time we're going to use a `pandas` DataFrame to create the data.\n",
    "\n",
    "Update the `title` list below to include your 3 favorite movies based on books.\n",
    "\n",
    "Then, using pandas `to_sql` method (an example can be found in `pandas-db-walkthrough`), create a new table named `favorite_book_movies` using this Data Frame.\n",
    "\n",
    "Finally, just like we did in the last secion, print all results of this new table to the console."
   ]
  },
  {
   "cell_type": "code",
   "execution_count": 22,
   "metadata": {
    "azdata_cell_guid": "b4b6dd20-ccc0-42e7-b1e7-79d8596b3f9c"
   },
   "outputs": [
    {
     "name": "stdout",
     "output_type": "stream",
     "text": [
      "(1, 'Home alone')\n",
      "(2, 'Home alone 2')\n",
      "(3, 'Jasper')\n"
     ]
    }
   ],
   "source": [
    "# Use Pandas to make a new table in your database.\n",
    "\n",
    "df_movies = pd.DataFrame({\n",
    "    'id': [1,2,3],\n",
    "    'title': ['Home alone','Home alone 2','Jasper']\n",
    "})\n",
    "\n",
    "df_movies\n",
    "\n",
    "with con:\n",
    "    # select and print records here\n",
    "    df_movies.to_sql('favorite_book_movies', con, if_exists=\"replace\",index=False)\n",
    "    for row in con.execute(\"SELECT * FROM favorite_book_movies\"):\n",
    "        print(row)\n"
   ]
  },
  {
   "cell_type": "markdown",
   "metadata": {},
   "source": [
    "## What's up with `with con`?\n",
    "\n",
    "You may have noticed in the `python-db-walkthrough` file that we had to include a section at the end to `close()` our sqlite3 connection. \n",
    "\n",
    "If we didn't include this code, we would end up with a hanging open connection, which could lead to database locking and/or record corruption. Both of these are very bad things!\n",
    "\n",
    "But, it would be hard to remember to always directly close the connection when we need to.\n",
    "\n",
    "That's why we have the `with` keyword! You can read about this Python language feature [here](https://www.geeksforgeeks.org/with-statement-in-python/).\n",
    "\n",
    "In this context, `with con` will open up a connection to the database and then close it once the Python code inside the indented block finishes. \n",
    "\n",
    "This way, we don't have to manually close our db connections in our code and we have a nice visual block of code to help manage each operation performed against the database."
   ]
  },
  {
   "cell_type": "code",
   "execution_count": 25,
   "metadata": {},
   "outputs": [],
   "source": [
    "con.close()"
   ]
  },
  {
   "cell_type": "code",
   "execution_count": null,
   "metadata": {},
   "outputs": [],
   "source": []
  }
 ],
 "metadata": {
  "kernelspec": {
   "display_name": "Python 3 (ipykernel)",
   "language": "python",
   "name": "python3"
  },
  "language_info": {
   "codemirror_mode": {
    "name": "ipython",
    "version": 3
   },
   "file_extension": ".py",
   "mimetype": "text/x-python",
   "name": "python",
   "nbconvert_exporter": "python",
   "pygments_lexer": "ipython3",
   "version": "3.12.4"
  }
 },
 "nbformat": 4,
 "nbformat_minor": 4
}
